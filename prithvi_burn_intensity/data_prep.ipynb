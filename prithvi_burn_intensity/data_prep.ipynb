{
 "cells": [
  {
   "cell_type": "code",
   "execution_count": 1,
   "metadata": {},
   "outputs": [
    {
     "name": "stdout",
     "output_type": "stream",
     "text": [
      "313\n"
     ]
    },
    {
     "data": {
      "text/plain": [
       "'\\nfor i in path2:\\n    print(i)'"
      ]
     },
     "execution_count": 1,
     "metadata": {},
     "output_type": "execute_result"
    }
   ],
   "source": [
    "import glob\n",
    "import os\n",
    "path=\"/rgroup/aifm/akumar/Burn_Scar/Burn_Scar_cropped_v1/\"\n",
    "tag=\"*.tiff\"\n",
    "tiff_path=os.path.join(path,tag)\n",
    "list_path=glob.glob(tiff_path)\n",
    "\n",
    "for i in list_path:\n",
    "    mask_name=i.split(\"/\")[-1]\n",
    "    if mask_name.split(\"_\")[0]==\"BS\":\n",
    "        with open(\"./mask_path.txt\",\"a\") as f:\n",
    "            f.write(mask_name+\"\\n\")\n",
    "\n",
    "\n",
    "with open(\"./mask_path.txt\",\"r\") as f:\n",
    "    path2=f.readlines()\n",
    "\n",
    "print(len(path2))\n",
    "\n",
    "'''\n",
    "for i in path2:\n",
    "    print(i)'''"
   ]
  },
  {
   "cell_type": "code",
   "execution_count": 2,
   "metadata": {},
   "outputs": [
    {
     "name": "stdout",
     "output_type": "stream",
     "text": [
      "313\n"
     ]
    }
   ],
   "source": [
    "import glob\n",
    "import os\n",
    "path=\"/rgroup/aifm/akumar/Burn_Scar/Burn_Scar_cropped_v1/\"\n",
    "tag=\"*.tiff\"\n",
    "tiff_path=os.path.join(path,tag)\n",
    "list_path=glob.glob(tiff_path)\n",
    "\n",
    "for i in list_path:\n",
    "    img_name=i.split(\"/\")[-1]\n",
    "    if img_name.split(\"_\")[0]==\"HLS\":\n",
    "        with open(\"./image_path.txt\",\"a\") as f:\n",
    "            f.write(img_name+\"\\n\")\n",
    "\n",
    "\n",
    "with open(\"./mask_path.txt\",\"r\") as f:\n",
    "    path2=f.readlines()\n",
    "\n",
    "print(len(path2))"
   ]
  },
  {
   "cell_type": "code",
   "execution_count": 5,
   "metadata": {},
   "outputs": [
    {
     "name": "stdout",
     "output_type": "stream",
     "text": [
      "249\n",
      "63\n"
     ]
    }
   ],
   "source": [
    "import random\n",
    "with open(\"./image_path.txt\",\"r\") as f:\n",
    "    path2=f.readlines()\n",
    "\n",
    "L=len(path2)\n",
    "numbers = list(range(L))\n",
    "\n",
    "# Shuffle the list\n",
    "random.shuffle(numbers)\n",
    "\n",
    "train_length=int(L*0.8)\n",
    "#val_length=L-train_length\n",
    "train_idx=numbers[0:train_length]\n",
    "val_idx=numbers[train_length:]\n",
    "\n",
    "train_img=[]\n",
    "val_img=[]\n",
    "\n",
    "\n",
    "\n",
    "for i in train_idx:\n",
    "    train_img.append(path2[i])\n",
    "print(len(train_img))\n",
    "\n",
    "for i in val_idx:\n",
    "    val_img.append(path2[i])\n",
    "print(len(val_img))\n",
    "\n",
    "for j,i in enumerate(train_img):\n",
    "    with open(\"./train.txt\",\"a\") as f:\n",
    "        f.write(i)\n",
    "\n",
    "for i in val_img:\n",
    "    with open(\"./val.txt\",\"a\") as f:\n",
    "        f.write(i)\n",
    "\n",
    "#print(len(train_idx)+len(val_idx))\n",
    "\n"
   ]
  },
  {
   "cell_type": "code",
   "execution_count": 8,
   "metadata": {},
   "outputs": [
    {
     "name": "stdout",
     "output_type": "stream",
     "text": [
      "249\n"
     ]
    }
   ],
   "source": [
    "with open(\"./train.txt\",\"r\") as f:\n",
    "    path3=f.readlines()\n",
    "\n",
    "print(len(path3))"
   ]
  },
  {
   "cell_type": "code",
   "execution_count": 9,
   "metadata": {},
   "outputs": [
    {
     "name": "stdout",
     "output_type": "stream",
     "text": [
      "63\n"
     ]
    }
   ],
   "source": [
    "with open(\"./val.txt\",\"r\") as f:\n",
    "    path2=f.readlines()\n",
    "\n",
    "print(len(path2))"
   ]
  }
 ],
 "metadata": {
  "kernelspec": {
   "display_name": "hls2",
   "language": "python",
   "name": "python3"
  },
  "language_info": {
   "codemirror_mode": {
    "name": "ipython",
    "version": 3
   },
   "file_extension": ".py",
   "mimetype": "text/x-python",
   "name": "python",
   "nbconvert_exporter": "python",
   "pygments_lexer": "ipython3",
   "version": "3.9.0"
  }
 },
 "nbformat": 4,
 "nbformat_minor": 2
}
